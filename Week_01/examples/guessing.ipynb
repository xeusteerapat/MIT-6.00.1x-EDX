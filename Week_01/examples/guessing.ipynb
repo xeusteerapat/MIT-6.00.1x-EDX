{
 "cells": [
  {
   "cell_type": "code",
   "execution_count": 1,
   "metadata": {},
   "outputs": [
    {
     "data": {
      "text/plain": [
       "range(7, 10)"
      ]
     },
     "execution_count": 1,
     "metadata": {},
     "output_type": "execute_result"
    }
   ],
   "source": [
    "range(7,10)"
   ]
  },
  {
   "cell_type": "code",
   "execution_count": 3,
   "metadata": {},
   "outputs": [
    {
     "data": {
      "text/plain": [
       "[5, 7, 9]"
      ]
     },
     "execution_count": 3,
     "metadata": {},
     "output_type": "execute_result"
    }
   ],
   "source": [
    "list(range(5,11, 2))"
   ]
  },
  {
   "cell_type": "code",
   "execution_count": 4,
   "metadata": {},
   "outputs": [],
   "source": [
    "my_sum = 0"
   ]
  },
  {
   "cell_type": "code",
   "execution_count": 5,
   "metadata": {},
   "outputs": [
    {
     "name": "stdout",
     "output_type": "stream",
     "text": [
      "5\n"
     ]
    }
   ],
   "source": [
    "for i in range(5, 11, 2):\n",
    "    my_sum += i\n",
    "    if my_sum == 5:\n",
    "        break\n",
    "print(my_sum)"
   ]
  },
  {
   "cell_type": "code",
   "execution_count": 6,
   "metadata": {},
   "outputs": [],
   "source": [
    "x = 3\n",
    "ans = 0\n",
    "iter_left = x"
   ]
  },
  {
   "cell_type": "code",
   "execution_count": 8,
   "metadata": {},
   "outputs": [
    {
     "name": "stdout",
     "output_type": "stream",
     "text": [
      "3*3 = 9\n"
     ]
    }
   ],
   "source": [
    "while (iter_left != 0):\n",
    "    ans = ans + x\n",
    "    iter_left = iter_left - 1\n",
    "print(str(x) + '*' + str(x) + ' = ' + str(ans))"
   ]
  },
  {
   "cell_type": "code",
   "execution_count": 14,
   "metadata": {},
   "outputs": [
    {
     "name": "stdin",
     "output_type": "stream",
     "text": [
      "please enter number:  8\n"
     ]
    },
    {
     "name": "stdout",
     "output_type": "stream",
     "text": [
      "Cube root of 8 is 2\n"
     ]
    }
   ],
   "source": [
    "x = int(input('please enter number: '))\n",
    "ans = 0\n",
    "while ans ** 3 < x:\n",
    "    ans = ans + 1\n",
    "if ans ** 3 != x:\n",
    "    print('Not a perfect cube')\n",
    "else:\n",
    "    print('Cube root of ' + str(x) + ' is ' + str(ans))"
   ]
  },
  {
   "cell_type": "code",
   "execution_count": 16,
   "metadata": {},
   "outputs": [
    {
     "name": "stdin",
     "output_type": "stream",
     "text": [
      "please enter number:  27\n"
     ]
    },
    {
     "name": "stdout",
     "output_type": "stream",
     "text": [
      "Cube root of 27 is 3\n"
     ]
    }
   ],
   "source": [
    "# check positive number\n",
    "x = int(input('please enter number: '))\n",
    "ans = 0\n",
    "while ans ** 3 < abs(x):\n",
    "    ans = ans + 1\n",
    "if ans ** 3 != abs(x):\n",
    "    print('Not a perfect cube')\n",
    "else:\n",
    "    if x < 0:\n",
    "        ans = -ans\n",
    "    print('Cube root of ' + str(x) + ' is ' + str(ans))"
   ]
  },
  {
   "cell_type": "code",
   "execution_count": 24,
   "metadata": {},
   "outputs": [
    {
     "name": "stdin",
     "output_type": "stream",
     "text": [
      "please enter number:  64\n"
     ]
    },
    {
     "name": "stdout",
     "output_type": "stream",
     "text": [
      "Cube root of 64 is 4\n"
     ]
    }
   ],
   "source": [
    "# using for-loop\n",
    "guesses = int(input('please enter number: '))\n",
    "for guess in range(abs(guesses) + 1):\n",
    "    if guess ** 3 >= abs(guesses):\n",
    "        break\n",
    "if guess ** 3 != abs(guesses):\n",
    "    print(guesses, 'Not a perfect number')\n",
    "else:\n",
    "    if guesses < 0:\n",
    "        guess = -guess\n",
    "    print('Cube root of ' + str(guesses) + ' is ' + str(guess))"
   ]
  },
  {
   "cell_type": "code",
   "execution_count": 27,
   "metadata": {},
   "outputs": [
    {
     "name": "stdin",
     "output_type": "stream",
     "text": [
      "I will cheer for you, Enter the word:  CMU\n",
      "Enthusiasm level 1 - 10:  10\n"
     ]
    },
    {
     "name": "stdout",
     "output_type": "stream",
     "text": [
      "Give me an C! C\n",
      "Give me an M! M\n",
      "Give me an U! U\n",
      "What does that spell?\n",
      "CMU !!!\n",
      "CMU !!!\n",
      "CMU !!!\n",
      "CMU !!!\n",
      "CMU !!!\n",
      "CMU !!!\n",
      "CMU !!!\n",
      "CMU !!!\n",
      "CMU !!!\n",
      "CMU !!!\n"
     ]
    }
   ],
   "source": [
    "an_letters = 'aefhilmnorsxAEFHILMNORSX'\n",
    "\n",
    "word = input('I will cheer for you, Enter the word: ')\n",
    "time = int(input('Enthusiasm level 1 - 10: '))\n",
    "i = 0\n",
    "\n",
    "while i < len(word):\n",
    "    char = word[i]\n",
    "    if char in an_letters:\n",
    "        print('Give me an ' + char + '! ' + char)\n",
    "    else:\n",
    "        print('Give me an ' + char + '! ' + char)\n",
    "    i += 1\n",
    "print('What does that spell?')\n",
    "for i in range(time):\n",
    "    print(word, '!!!')"
   ]
  },
  {
   "cell_type": "code",
   "execution_count": 31,
   "metadata": {},
   "outputs": [
    {
     "name": "stdin",
     "output_type": "stream",
     "text": [
      "Enter number 8\n"
     ]
    },
    {
     "name": "stdout",
     "output_type": "stream",
     "text": [
      "Divisible by 2 but not 3\n"
     ]
    }
   ],
   "source": [
    "x = int(input('Enter number'))\n",
    "\n",
    "if x % 2 == 0:\n",
    "    if x % 3 == 0:\n",
    "        print('Divisible by 2 and 3')\n",
    "    else:\n",
    "        print('Divisible by 2 but not 3')\n",
    "elif x % 3 == 0:\n",
    "    print('Divisible by 3 but not by 2')"
   ]
  },
  {
   "cell_type": "code",
   "execution_count": null,
   "metadata": {},
   "outputs": [],
   "source": []
  }
 ],
 "metadata": {
  "kernelspec": {
   "display_name": "Python 3",
   "language": "python",
   "name": "python3"
  },
  "language_info": {
   "codemirror_mode": {
    "name": "ipython",
    "version": 3
   },
   "file_extension": ".py",
   "mimetype": "text/x-python",
   "name": "python",
   "nbconvert_exporter": "python",
   "pygments_lexer": "ipython3",
   "version": "3.7.1"
  }
 },
 "nbformat": 4,
 "nbformat_minor": 4
}
